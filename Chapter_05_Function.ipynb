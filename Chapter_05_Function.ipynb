{
 "cells": [
  {
   "cell_type": "markdown",
   "metadata": {},
   "source": [
    "# 5장 함수"
   ]
  },
  {
   "cell_type": "markdown",
   "metadata": {},
   "source": [
    "전역 변수와 지역 변수와 스택 프레임을 먼저 알아야 한다."
   ]
  },
  {
   "cell_type": "markdown",
   "metadata": {},
   "source": [
    "## 1.1 자료 구조 미리 엿보기"
   ]
  },
  {
   "cell_type": "markdown",
   "metadata": {},
   "source": [
    "스택은 접시 쌓기라고 생각하면 된다. 데이터를 저장할 때는 접시처럼 차곡차곡 쌓아 올리고, 데이터를 꺼낼 때는 접시처럼 맨 위부터 차례차례 내린다."
   ]
  },
  {
   "cell_type": "markdown",
   "metadata": {},
   "source": [
    "## 1.2 전역 변수와 지역 변수"
   ]
  },
  {
   "cell_type": "code",
   "execution_count": 6,
   "metadata": {},
   "outputs": [
    {
     "name": "stdout",
     "output_type": "stream",
     "text": [
      "10\n"
     ]
    }
   ],
   "source": [
    "g_var = 10\n",
    "\n",
    "def func():\n",
    "    print (f\"{g_var}\")\n",
    "    \n",
    "if __name__=='__main__':\n",
    "    func()"
   ]
  },
  {
   "cell_type": "markdown",
   "metadata": {},
   "source": [
    "위 코드에서는 g\\_var은 전역변수이다. 함수 안에서 전역 변수에 접근했고, 실행 결과를 보면 접근이 가능하다는 것을 알 수 있다."
   ]
  },
  {
   "cell_type": "code",
   "execution_count": 10,
   "metadata": {},
   "outputs": [
    {
     "name": "stdout",
     "output_type": "stream",
     "text": [
      "20 in function\n",
      "10 in main\n"
     ]
    }
   ],
   "source": [
    "g_var = 10\n",
    "\n",
    "def func():\n",
    "    g_var = 20\n",
    "\n",
    "    print (f\"{g_var} in function\")\n",
    "    \n",
    "if __name__ == \"__main__\":\n",
    "    func()\n",
    "    print (f\"{g_var} in main\")"
   ]
  },
  {
   "cell_type": "markdown",
   "metadata": {},
   "source": [
    "- 지역 변수"
   ]
  },
  {
   "cell_type": "code",
   "execution_count": 16,
   "metadata": {},
   "outputs": [
    {
     "name": "stdout",
     "output_type": "stream",
     "text": [
      "g_var : 10 before\n",
      "g_var : 20 after\n"
     ]
    }
   ],
   "source": [
    "g_var = 10 #1\n",
    "\n",
    "\n",
    "def func():\n",
    "    global g_var #2\n",
    "    g_var = 20 #3\n",
    "    \n",
    "if __name__ == \"__main__\":\n",
    "    print (f\"g_var : {g_var} before\")\n",
    "    func()\n",
    "    print (f\"g_var : {g_var} after\")"
   ]
  },
  {
   "cell_type": "markdown",
   "metadata": {},
   "source": [
    "전역 변수를 3에서 변경하였다."
   ]
  },
  {
   "cell_type": "markdown",
   "metadata": {},
   "source": [
    "- nonlocal 키워드"
   ]
  },
  {
   "cell_type": "code",
   "execution_count": 17,
   "metadata": {},
   "outputs": [],
   "source": [
    "def outer():\n",
    "    a = 10\n",
    "    def inner():\n",
    "        b = 20"
   ]
  },
  {
   "cell_type": "markdown",
   "metadata": {},
   "source": [
    "a는 outer()함수 입장에서는 지역 변수이지만 inner()함수 입장에서는 지역 변수가 아니다."
   ]
  },
  {
   "cell_type": "code",
   "execution_count": 18,
   "metadata": {},
   "outputs": [
    {
     "name": "stdout",
     "output_type": "stream",
     "text": [
      "1 2 3\n",
      "1 2 3 4 5\n"
     ]
    }
   ],
   "source": [
    "a = 1\n",
    "\n",
    "def outer():\n",
    "    b = 2\n",
    "    c = 3\n",
    "    print (a, b, c)\n",
    "    def inner():\n",
    "        d = 4\n",
    "        e = 5\n",
    "        print (a, b, c, d, e)\n",
    "    inner()\n",
    "    \n",
    "if __name__ == \"__main__\":\n",
    "    outer()"
   ]
  },
  {
   "cell_type": "markdown",
   "metadata": {},
   "source": [
    "innner() 함수 안에서 b와 c를 변경하려면 nonlocal 키워드를 사용한다."
   ]
  },
  {
   "cell_type": "code",
   "execution_count": 21,
   "metadata": {},
   "outputs": [
    {
     "name": "stdout",
     "output_type": "stream",
     "text": [
      "locals in outer : a = {a}, b = {b}\n"
     ]
    }
   ],
   "source": [
    "def outer():\n",
    "    a = 2 #1\n",
    "    b = 3\n",
    "    \n",
    "    def inner():\n",
    "        nonlocal a #2\n",
    "        a = 100 #3\n",
    "    inner()\n",
    "    \n",
    "    print (\"locals in outer : a = {a}, b = {b}\")\n",
    "    \n",
    "if __name__ == \"__main__\":\n",
    "    outer()"
   ]
  },
  {
   "cell_type": "markdown",
   "metadata": {},
   "source": [
    "outer() 함수의 지역 변수 a를 #3에서 변경하였다."
   ]
  },
  {
   "cell_type": "markdown",
   "metadata": {},
   "source": [
    "# 2. 인자 전달 방식에 따른 분류"
   ]
  },
  {
   "cell_type": "markdown",
   "metadata": {},
   "source": [
    "함수는 인자(argument) 전달 방식에 따라 값에 의한 전달(call by value)와 참조에 의한 전달(call by reference)로 나누어진다."
   ]
  },
  {
   "cell_type": "markdown",
   "metadata": {},
   "source": [
    "```C++\n",
    "#include <iostream>\n",
    "using namespace std;\n",
    "\n",
    "void change_value(int x, int value) // #1\n",
    "{\n",
    "    x = value; // #2\n",
    "    cout << \"x : \" << x << \" in change_value\" << endl;\n",
    "}\n",
    "\n",
    "int main(void)\n",
    "{\n",
    "    int x = 10; // #3\n",
    "    change_value(x, 20); // #4\n",
    "    cout << \"x : \" << x << \" in main\" << endl;\n",
    "    \n",
    "    \n",
    "    return 0;\n",
    "}\n",
    "\n",
    "\n",
    "```"
   ]
  },
  {
   "cell_type": "markdown",
   "metadata": {},
   "source": [
    "**실행 결과 **\n",
    "\n",
    "x : 20 in change_value\n",
    "        \n",
    "x : 10 in main"
   ]
  },
  {
   "cell_type": "markdown",
   "metadata": {},
   "source": [
    "- main() 함수에서 지역 변수 x에 10을 대입한 다음 change\\_value() 함수를 호출하면서 value 인자로 20을 전달했으므로 지역 변수 x 값은 20으로 바뀔 듯 하지만 그렇지 않다."
   ]
  },
  {
   "cell_type": "markdown",
   "metadata": {},
   "source": [
    "- 함수 안에서는 값이 변경되었지만 함수를 호출한 쪽에서는 값이 변경되지 않았다. 지역 변수 x가 변경되지 않은 이유는 함수에 x가 전달될 때 값에 의한 전달 방식으로 전달되었기 때문이다."
   ]
  },
  {
   "cell_type": "markdown",
   "metadata": {},
   "source": [
    "- 함수가 호출될 때 메모리에는 \"스택 프레임\" 이 생긴다. 스택 프레임은 함수의 메모리 공간, 즉 지역 변수가 존재하는 영역이다."
   ]
  },
  {
   "cell_type": "markdown",
   "metadata": {},
   "source": [
    "- 인자를 전달할 때 값을 복사해 전달하는 경우를 **값에 의한 전달(call by value)** 이라고 한다. 말 그대로 값을 복사할 뿐이다."
   ]
  },
  {
   "cell_type": "markdown",
   "metadata": {},
   "source": [
    "## 2.2 참조에 의한 전달"
   ]
  },
  {
   "cell_type": "markdown",
   "metadata": {},
   "source": [
    "참조에 의한 전달(call by rererence) 방식은 인자를 전달할 때 값을 전달하는게 아니라 참조를 전달한다."
   ]
  },
  {
   "cell_type": "markdown",
   "metadata": {},
   "source": [
    "```C++\n",
    "#include <iostream>\n",
    "using namespace std;\n",
    "\n",
    "void change_value(int *x, int value) // #1\n",
    "{\n",
    "    *x = value; // #2\n",
    "    cout << \"x : \" << x << \" in change_value\" << endl;\n",
    "}\n",
    "\n",
    "int main(void)\n",
    "{\n",
    "    int x = 10; // #3\n",
    "    change_value(&x, 20); // #4\n",
    "    cout << \"x : \" << x << \" in main\" << endl;\n",
    "    \n",
    "    \n",
    "    return 0;\n",
    "}\n",
    "\n",
    "\n",
    "```"
   ]
  },
  {
   "cell_type": "markdown",
   "metadata": {},
   "source": [
    "**실행 결과**\n",
    "\n",
    "x : 20 in change_value\n",
    "\n",
    "x : 20 in main"
   ]
  },
  {
   "cell_type": "markdown",
   "metadata": {},
   "source": [
    "- int * 는 int형 포인터를 의미한다.\n",
    "- #4에서 &x로 인자를 전달한다. 이는 main()함수 스택 프레임의 변수 x가 위치한 메모리 공간의 첫 번째 바이트 주소 값을 전달한다는 의미이다.\n",
    "    - 즉 값 10을 전달하는게 아니라 데이터 10을 저장하고 있는 4바이트 공간(int형은 정수형 자료형으로 4바이트를 차지한다.)중 첫 번째 바이트의 주소 값을 전달한다.\n",
    "- #1의 인자 모곩에서 int *x는 포인터 변수를 의미한다. 포인터 변수도 다른 변수처럼 데이터를 저장하지만 단지 그 데이터가 메모리 주소이다.\n",
    "- change_value() 함수 스택 프레임의 포인터 변수 x는 &x를 통해 #4에 서 전달된 main() 함수 스택 프레임 안의 지역 변수 x의 주소 값을 저장한다."
   ]
  },
  {
   "cell_type": "markdown",
   "metadata": {},
   "source": [
    "- 포인터 변수가 주소 값을 저장한다는 것은 int형 포인터 x가 화살표 를 따라 main()함수의 지역변수 x를 가리키는 것과 같은 의미이다. 이 가리킨다는 말을 다른 말로 풀면 참조가 되어 **참조에 의한 전달**(call by reference)가 된다."
   ]
  },
  {
   "cell_type": "markdown",
   "metadata": {},
   "source": [
    "- #2에서 *x를 역참조(dereference(라고 하며 x에 저장된 값인 0x1111 1111로 접근한다. 이렇게 접근하여 value를 대입하면 main()함수의 지역 변수 x가 있는 메모리 공간에 value 값을 대입할 수 있다.\n",
    "\n",
    "- main 스택 프레임의 x이 10에서 20으로 변경된다."
   ]
  },
  {
   "cell_type": "markdown",
   "metadata": {},
   "source": [
    "## 2.3 객체 참조에 의한 전달(파이썬)- 변경 불가능 객체를 전달할 때"
   ]
  },
  {
   "cell_type": "markdown",
   "metadata": {},
   "source": [
    "- 파이썬은 call by object reference이라는 특별한 방식으로 인자를 전달한다. "
   ]
  },
  {
   "cell_type": "markdown",
   "metadata": {},
   "source": [
    "변경 불가능 객체인 상수 객체를 인자로 전달해 보자"
   ]
  },
  {
   "cell_type": "code",
   "execution_count": 27,
   "metadata": {},
   "outputs": [
    {
     "name": "stdout",
     "output_type": "stream",
     "text": [
      "x : 20 in change_value\n",
      "x : 10 in main\n"
     ]
    }
   ],
   "source": [
    "def change_value(x, value): #3\n",
    "    x = value #4\n",
    "    print (f\"x : {x} in change_value\")\n",
    "    \n",
    "if __name__ == '__main__':\n",
    "    x = 10 #1\n",
    "    change_value(x, 20) #2\n",
    "    print (f\"x : {x} in main\")"
   ]
  },
  {
   "cell_type": "markdown",
   "metadata": {},
   "source": [
    "- **파이썬의 변수는 C언어처럼 변수라는 메모리 공간에 값을 직접 저장하지 않는다.** 변수 이름이 값 객체를 가리킨다.\n",
    "- 상수 객체는 변경 불가능 객체이다. 변수 값을 바꾼다는 의미는 변수 이름이 가리키는 메모리 공간의 값을 직접 바꾸는게 아니라 상수 객체를 참조하는 것이다.\n",
    "- #4는 x가 value가 가리키는 상수 객체를 참조하게 하는 코드이다."
   ]
  },
  {
   "cell_type": "markdown",
   "metadata": {},
   "source": [
    "- change_value 스택 프레임이 사라지면서 change_value() 함수의 지역 변수 x와 value가 사라졌다. 또한 레퍼런스 카운트(reference count)가 0이 된 상수 객체 20도 사라졌다. 따라서 x를 출력하면 10이 나온다."
   ]
  },
  {
   "cell_type": "markdown",
   "metadata": {},
   "source": [
    "** 레퍼런스 카운터란? **"
   ]
  },
  {
   "cell_type": "markdown",
   "metadata": {},
   "source": [
    "- 상수 a가 10이라는 상수 객체를 가리킨다면 래퍼런스 카운터는 1이다. \n",
    "- 이때 b=a라는 코드를 입력하면 b도 10이라는 상수 객체를 가리키게 되므로 상수 객체 10의 레퍼런스 카운터는 2가 된다."
   ]
  },
  {
   "cell_type": "code",
   "execution_count": 40,
   "metadata": {},
   "outputs": [
    {
     "data": {
      "text/plain": [
       "3"
      ]
     },
     "execution_count": 40,
     "metadata": {},
     "output_type": "execute_result"
    }
   ],
   "source": [
    "import sys\n",
    "a = \"abcde\"\n",
    "sys.getrefcount(a)\n",
    "\n",
    "b = a\n",
    "\n",
    "sys.getrefcount(a)"
   ]
  },
  {
   "cell_type": "markdown",
   "metadata": {},
   "source": [
    "getrefcount() 함수가 실행되면서 \"abcde\" 라는 문자열 상수를 참조한다."
   ]
  },
  {
   "cell_type": "markdown",
   "metadata": {},
   "source": [
    "## 2.4 객체 참조에 의한 전달(파이썬) - 변경 가능 객체를 전달할 때"
   ]
  },
  {
   "cell_type": "code",
   "execution_count": 41,
   "metadata": {},
   "outputs": [
    {
     "name": "stdout",
     "output_type": "stream",
     "text": [
      "['I am your father!', 2, 3, 4]\n"
     ]
    }
   ],
   "source": [
    "def func(li):\n",
    "    li[0] = 'I am your father!'\n",
    "    \n",
    "if __name__ == \"__main__\":\n",
    "    li = [1, 2, 3, 4]\n",
    "    func(li)\n",
    "    print (li)"
   ]
  },
  {
   "cell_type": "code",
   "execution_count": 43,
   "metadata": {},
   "outputs": [
    {
     "name": "stdout",
     "output_type": "stream",
     "text": [
      "[1, 2, 3, 4]\n"
     ]
    }
   ],
   "source": [
    "def func(li):\n",
    "    li = [\"I am your father\", 2, 3, 4] # 1\n",
    "    \n",
    "if __name__ == \"__main__\":\n",
    "    li = [1, 2, 3, 4]\n",
    "    func(li)\n",
    "    print (li)"
   ]
  },
  {
   "cell_type": "markdown",
   "metadata": {},
   "source": [
    "- 함수 안에서 리스트 li에 새로운 리스트를 통째로 할당하였다. 하지만 리스트가 변경되지 않았다.\n",
    "- 위 코드 : 참조한 리스트에 접근해 변경을 시도\n",
    "- 아래 코드: 아예 다른 리스트를 메모리 공간에 새로 만든 다음 이를 참조해 리스트를 변경\n",
    "    - 함수 호출이 끝나면 func 스택 프레임이 사라지면서 새로 만들어진 리스트는 삭제된다. main의 지역 변수인 리스트 li는 변경되지 않는다."
   ]
  },
  {
   "cell_type": "markdown",
   "metadata": {},
   "source": [
    "## 요약"
   ]
  },
  {
   "cell_type": "markdown",
   "metadata": {},
   "source": [
    "- 함수 인자로 변경 불가능 객체를 전달해 값을 변경할 수 없다. 함수 안에서 새 객체를 만든 다음 참조하여 바꾸려 하면 함수 호출이 끝나고 스택 프레임이 사라지면서 참조도 사라지기 때문이다.\n",
    "\n",
    "- 함수 내부에서 객체를 새롭게 할당해야만 값을 변경할 수 있는 객체는 변경 불가능 객체인 상수, 문자열, 튜플 뿐이다.\n",
    "\n",
    "- 리스트나 딕셔너리 같은 변경 가능 객체도 함수 안에서 새로운 객체를 만들 경우 함수 호출이 끝나면서 객체는 사라진다.\n",
    "\n",
    "- 변경 가능 객체를 인자로 전달할 때도 인자로 전달된 객체에 접근하여 변경해야만 함수를 호출한 쪽의 객체를 변경할 수 있다.\n",
    "\n",
    "- 이를 **객체 참조에 의한 전달**(call by object reference) 방식이라 한다."
   ]
  },
  {
   "cell_type": "markdown",
   "metadata": {},
   "source": [
    "## 변경 불가능 객체를 함수 인자로 전달해 변경하는 방법"
   ]
  },
  {
   "cell_type": "code",
   "execution_count": 44,
   "metadata": {},
   "outputs": [
    {
     "name": "stdout",
     "output_type": "stream",
     "text": [
      "('I am your father!', 2, 3, 4)\n"
     ]
    }
   ],
   "source": [
    "def change_value(tu):\n",
    "    tu = ('I am your father!', 2, 3, 4) # 2\n",
    "    return tu                           # 3\n",
    "\n",
    "if __name__ == \"__main__\":\n",
    "    tu = (1, 2, 3, 4) #1\n",
    "    tu = change_value(tu) #4\n",
    "    print (tu)"
   ]
  },
  {
   "cell_type": "markdown",
   "metadata": {},
   "source": [
    "- #1의 튜플을 #4에서 인자로 전달한다\n",
    "- #2를 보면 함수 안에서 새로운 튜플을 할당한다\n",
    "- change_value() 함수 안에 있는 지역 변수 tu가 이를 참조한다\n",
    "- change_value() 함수 안에서 변경한 지역 변수 tu를 반환하고 #4에서 함수를 호출한 쪽의 tu에 반환값을 대입한다.\n",
    "- 함수 호출이 끝나더라도 함수 안에서 할당된 객체를 함수를 호출한 쪽의 tu가 참조하므로 사라지지 않고 tu 값도 변경된다."
   ]
  },
  {
   "cell_type": "markdown",
   "metadata": {},
   "source": [
    "# 3 람다 함수"
   ]
  },
  {
   "cell_type": "markdown",
   "metadata": {},
   "source": [
    "람다(lambda) 함수는 이름이 없는 함수이다. 이름이 없기 때문에 다음 행으로 넘어가면 다시 사용할 수 없다. 자주 사용할 함수가 아니라면 필요할 때 람다 함수로 사용하면 된다."
   ]
  },
  {
   "cell_type": "code",
   "execution_count": 45,
   "metadata": {},
   "outputs": [
    {
     "data": {
      "text/plain": [
       "[1, 2, 3, 4, 5, 6, 7, 8, 9, 10]"
      ]
     },
     "execution_count": 45,
     "metadata": {},
     "output_type": "execute_result"
    }
   ],
   "source": [
    "li = [i for i in range(1, 11)]\n",
    "li"
   ]
  },
  {
   "cell_type": "code",
   "execution_count": 54,
   "metadata": {},
   "outputs": [],
   "source": [
    "li.sort(key=lambda x: x%2 == 0)"
   ]
  },
  {
   "cell_type": "code",
   "execution_count": 55,
   "metadata": {},
   "outputs": [
    {
     "data": {
      "text/plain": [
       "[1, 3, 5, 7, 9, 2, 4, 6, 8, 10]"
      ]
     },
     "execution_count": 55,
     "metadata": {},
     "output_type": "execute_result"
    }
   ],
   "source": [
    "li"
   ]
  },
  {
   "cell_type": "markdown",
   "metadata": {},
   "source": [
    "- 정렬하는데 필요한 key 인자에 람다 함수를 전달한다.\n",
    "- 2의 배수가 아니라면 False이므로 0이 되고, 2의 배수면 True 이므로 1이 된다.\n",
    "- 이를 오름차순으로 정렬하면 2의 배수가 뒤에 배치된다."
   ]
  },
  {
   "cell_type": "markdown",
   "metadata": {},
   "source": [
    "람다 함수를 변수로 받으면 함수 정의를 한 것 처럼 사용할 수 있다."
   ]
  },
  {
   "cell_type": "code",
   "execution_count": 57,
   "metadata": {},
   "outputs": [],
   "source": [
    "f = lambda x: x ** 2"
   ]
  },
  {
   "cell_type": "code",
   "execution_count": 58,
   "metadata": {},
   "outputs": [
    {
     "data": {
      "text/plain": [
       "4"
      ]
     },
     "execution_count": 58,
     "metadata": {},
     "output_type": "execute_result"
    }
   ],
   "source": [
    "f(2)"
   ]
  },
  {
   "cell_type": "code",
   "execution_count": 59,
   "metadata": {},
   "outputs": [
    {
     "data": {
      "text/plain": [
       "25"
      ]
     },
     "execution_count": 59,
     "metadata": {},
     "output_type": "execute_result"
    }
   ],
   "source": [
    "f(5)"
   ]
  },
  {
   "cell_type": "markdown",
   "metadata": {},
   "source": [
    "**람다 함수의 몸체에는 반드시 식이 들어가야 한다**"
   ]
  },
  {
   "cell_type": "code",
   "execution_count": 60,
   "metadata": {},
   "outputs": [],
   "source": [
    "f1 = lambda li, idx: li[idx]"
   ]
  },
  {
   "cell_type": "code",
   "execution_count": 61,
   "metadata": {},
   "outputs": [
    {
     "ename": "SyntaxError",
     "evalue": "can't assign to lambda (<ipython-input-61-0d5fb283671b>, line 1)",
     "output_type": "error",
     "traceback": [
      "\u001b[0;36m  File \u001b[0;32m\"<ipython-input-61-0d5fb283671b>\"\u001b[0;36m, line \u001b[0;32m1\u001b[0m\n\u001b[0;31m    f2 = lambda li, idx, value: li[idx] = value\u001b[0m\n\u001b[0m        ^\u001b[0m\n\u001b[0;31mSyntaxError\u001b[0m\u001b[0;31m:\u001b[0m can't assign to lambda\n"
     ]
    }
   ],
   "source": [
    "f2 = lambda li, idx, value: li[idx] = value"
   ]
  },
  {
   "cell_type": "markdown",
   "metadata": {},
   "source": [
    "식이 아니라 람다 함수 몸체에 있는 li[idx] = value가 할당문이라 오류가 발생한다."
   ]
  }
 ],
 "metadata": {
  "kernelspec": {
   "display_name": "Python 3",
   "language": "python",
   "name": "python3"
  },
  "language_info": {
   "codemirror_mode": {
    "name": "ipython",
    "version": 3
   },
   "file_extension": ".py",
   "mimetype": "text/x-python",
   "name": "python",
   "nbconvert_exporter": "python",
   "pygments_lexer": "ipython3",
   "version": "3.6.4"
  }
 },
 "nbformat": 4,
 "nbformat_minor": 2
}
