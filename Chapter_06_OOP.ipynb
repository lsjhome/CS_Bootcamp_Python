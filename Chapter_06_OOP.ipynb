{
 "cells": [
  {
   "cell_type": "markdown",
   "metadata": {},
   "source": [
    "# 6장 객체 지향 프로그래밍"
   ]
  },
  {
   "cell_type": "markdown",
   "metadata": {},
   "source": [
    "# 1. 프로그래밍 패러다임"
   ]
  },
  {
   "cell_type": "markdown",
   "metadata": {},
   "source": [
    "패러다임은 어떤 사물을 바라보는 사고의 틀이나 체계를 듯한다. 프로그래밍 패러다임은 프로그래밍을 어떻게 바라볼 것인지, 어떻게 프로그래밍할 것인지에 대한 인식이나 체계라고 할 수 있다."
   ]
  },
  {
   "cell_type": "markdown",
   "metadata": {},
   "source": [
    "# 2. 절차 지향 프로그래밍"
   ]
  },
  {
   "cell_type": "markdown",
   "metadata": {},
   "source": [
    "- 절차를 의미하는 프로시저(procedure)는 서브 루틴, 메서드, 함수라고도 불린다.\n",
    "- \"이 프로그램은 어떤 일을 하는가?\"에 대한 질문에 쉽게 답할 수 있도록 함수(프로시저)를 사용해 프로그래밍 하는 것을 절차 지향 프로그래밍이라고 한다."
   ]
  },
  {
   "cell_type": "markdown",
   "metadata": {},
   "source": [
    "# 3. 절차 지향으로 학급 성적 평가 프로그램 만들기"
   ]
  },
  {
   "cell_type": "code",
   "execution_count": 18,
   "metadata": {},
   "outputs": [],
   "source": [
    "from openpyxl import *"
   ]
  },
  {
   "cell_type": "code",
   "execution_count": 19,
   "metadata": {},
   "outputs": [],
   "source": [
    "wb = load_workbook('./exam.xlsx')"
   ]
  },
  {
   "cell_type": "code",
   "execution_count": 20,
   "metadata": {},
   "outputs": [
    {
     "data": {
      "text/plain": [
       "['Sheet1']"
      ]
     },
     "execution_count": 20,
     "metadata": {},
     "output_type": "execute_result"
    }
   ],
   "source": [
    "wb.sheetnames"
   ]
  },
  {
   "cell_type": "code",
   "execution_count": 21,
   "metadata": {},
   "outputs": [
    {
     "data": {
      "text/plain": [
       "<Worksheet \"Sheet1\">"
      ]
     },
     "execution_count": 21,
     "metadata": {},
     "output_type": "execute_result"
    }
   ],
   "source": [
    "ws = wb.active\n",
    "\n",
    "ws"
   ]
  },
  {
   "cell_type": "code",
   "execution_count": 22,
   "metadata": {},
   "outputs": [],
   "source": [
    "g = ws.rows"
   ]
  },
  {
   "cell_type": "code",
   "execution_count": 23,
   "metadata": {},
   "outputs": [],
   "source": [
    "cells = next(g)"
   ]
  },
  {
   "cell_type": "code",
   "execution_count": 24,
   "metadata": {},
   "outputs": [
    {
     "data": {
      "text/plain": [
       "(<Cell 'Sheet1'.A1>,\n",
       " <Cell 'Sheet1'.B1>,\n",
       " <Cell 'Sheet1'.C1>,\n",
       " <Cell 'Sheet1'.D1>)"
      ]
     },
     "execution_count": 24,
     "metadata": {},
     "output_type": "execute_result"
    }
   ],
   "source": [
    "cells"
   ]
  },
  {
   "cell_type": "code",
   "execution_count": 25,
   "metadata": {},
   "outputs": [],
   "source": [
    "keys = []\n",
    "for cell in cells:\n",
    "    keys.append(cell.value)"
   ]
  },
  {
   "cell_type": "code",
   "execution_count": 26,
   "metadata": {},
   "outputs": [
    {
     "data": {
      "text/plain": [
       "['name', 'math', 'literature', 'science']"
      ]
     },
     "execution_count": 26,
     "metadata": {},
     "output_type": "execute_result"
    }
   ],
   "source": [
    "keys"
   ]
  },
  {
   "cell_type": "markdown",
   "metadata": {},
   "source": [
    "셀의 value에 접근해서 실제 값을 가져오자(#1)"
   ]
  },
  {
   "cell_type": "code",
   "execution_count": 27,
   "metadata": {},
   "outputs": [],
   "source": [
    "student_data = []\n",
    "for row in g:\n",
    "    dic = {k:c.value for k, c in zip(keys, row)}\n",
    "    student_data.append(dic)"
   ]
  },
  {
   "cell_type": "code",
   "execution_count": 28,
   "metadata": {},
   "outputs": [
    {
     "data": {
      "text/plain": [
       "[{'name': 'greg', 'math': 95, 'literature': 65, 'science': 75},\n",
       " {'name': 'john', 'math': 25, 'literature': 30, 'science': 55},\n",
       " {'name': 'yang', 'math': 50, 'literature': 45, 'science': 40},\n",
       " {'name': 'timothy', 'math': 15, 'literature': 65, 'science': 90},\n",
       " {'name': 'melisa', 'math': 100, 'literature': 100, 'science': 100},\n",
       " {'name': 'thor', 'math': 10, 'literature': 15, 'science': 20},\n",
       " {'name': 'elen', 'math': 25, 'literature': 50, 'science': 100},\n",
       " {'name': 'mark', 'math': 80, 'literature': 75, 'science': 80},\n",
       " {'name': 'steve', 'math': 95, 'literature': 100, 'science': 95},\n",
       " {'name': 'anna', 'math': 20, 'literature': 20, 'science': 20}]"
      ]
     },
     "execution_count": 28,
     "metadata": {},
     "output_type": "execute_result"
    }
   ],
   "source": [
    "student_data"
   ]
  },
  {
   "cell_type": "markdown",
   "metadata": {},
   "source": [
    "## 3.3 평균, 분산, 표준편차를 함수로 만들기"
   ]
  },
  {
   "cell_type": "code",
   "execution_count": 47,
   "metadata": {},
   "outputs": [
    {
     "name": "stdout",
     "output_type": "stream",
     "text": [
      "평균: 51.5, 분산: 1240.2, 표준편차: 35.2\n",
      "성적은 평균 이상이지만 학생들이 실력 차이가 크다. 주의 요망!\n"
     ]
    }
   ],
   "source": [
    "import openpyxl\n",
    "import math\n",
    "\n",
    "# 학년 전체 학생의 평균: 50점\n",
    "\n",
    "raw_data = {}\n",
    "wb = openpyxl.load_workbook('./class_2_3.xlsx')\n",
    "ws = wb.active\n",
    "g = ws.rows\n",
    "\n",
    "for name, score in g:\n",
    "    raw_data[name.value] = score.value\n",
    "    \n",
    "scores = list(raw_data.values())\n",
    "\n",
    "s = 0\n",
    "\n",
    "for score in scores:\n",
    "    s += score\n",
    "\n",
    "avrg = round(s/len(scores), 1)\n",
    "\n",
    "s = 0\n",
    "\n",
    "for score in scores:\n",
    "    s += (score - avrg) ** 2\n",
    "    \n",
    "variance = round(s/len(scores), 1)\n",
    "\n",
    "std_dev = round(math.sqrt(variance), 1)\n",
    "\n",
    "print (\"평균: {0}, 분산: {1}, 표준편차: {2}\".format(avrg, variance, std_dev))\n",
    "\n",
    "if avrg < 50 and std_dev > 20:\n",
    "    print ('성적이 너무 저조하고 학생들의 실력 차이가 너무 크다.')\n",
    "    \n",
    "elif avrg > 50 and std_dev > 20:\n",
    "    print ('성적은 평균 이상이지만 학생들이 실력 차이가 크다. 주의 요망!')\n",
    "    \n",
    "elif avrg < 50 and std_dev < 20:\n",
    "    print ('학생들의 실력 차이는 크지 않지만 성적이 너무 저조하다. 주의 요망!')\n",
    "\n",
    "elif avrg > 50 and std_dev < 20:\n",
    "    print ('성적도 평균 이상이고 학생들의 실력 차이도 크지 않다.')"
   ]
  },
  {
   "cell_type": "markdown",
   "metadata": {},
   "source": [
    "아래 부분을 함수로 바꿔 보자"
   ]
  },
  {
   "cell_type": "code",
   "execution_count": 48,
   "metadata": {},
   "outputs": [],
   "source": [
    "raw_data = {}\n",
    "wb = openpyxl.load_workbook('./class_2_3.xlsx')\n",
    "ws = wb.active\n",
    "g = ws.rows\n",
    "\n",
    "for name, score in g:\n",
    "    raw_data[name.value] = score.value"
   ]
  },
  {
   "cell_type": "code",
   "execution_count": 50,
   "metadata": {},
   "outputs": [],
   "source": [
    "import openpyxl\n",
    "import math\n",
    "\n",
    "def get_data_from_excel(filename):\n",
    "    '''\n",
    "    get_data_from_excel(filename) -> {'name1': 'score1', 'name2':'score2', ...}\n",
    "    엑셀 파일에서 데이터를 가져온다\n",
    "    반환값은 key가 학생 이름이고 value가 점수인 딕셔너리이다.\n",
    "    \n",
    "    '''\n",
    "    dic = {}\n",
    "    wb = openpyxl.load_workbook(filename)\n",
    "    ws = wb.active\n",
    "    g = ws.rows\n",
    "    \n",
    "    for name, score in g:\n",
    "        dic[name.value] = score.value\n",
    "        \n",
    "    return dic"
   ]
  },
  {
   "cell_type": "markdown",
   "metadata": {},
   "source": [
    "아래 부분을 함수로 바꿔 보자"
   ]
  },
  {
   "cell_type": "code",
   "execution_count": 52,
   "metadata": {},
   "outputs": [],
   "source": [
    "s = 0\n",
    "\n",
    "for score in scores:\n",
    "    s += (score - avrg) ** 2\n",
    "    \n",
    "variance = round(s/len(scores), 1)\n",
    "\n",
    "std_dev = round(math.sqrt(variance), 1)\n",
    "\n",
    "print (\"평균: {0}, 분산: {1}, 표준편차: {2}\".format(avrg, variance, std_dev))\n",
    "\n",
    "if avrg < 50 and std_dev > 20:\n",
    "    print ('성적이 너무 저조하고 학생들의 실력 차이가 너무 크다.')\n",
    "    \n",
    "elif avrg > 50 and std_dev > 20:\n",
    "    print ('성적은 평균 이상이지만 학생들이 실력 차이가 크다. 주의 요망!')\n",
    "    \n",
    "elif avrg < 50 and std_dev < 20:\n",
    "    print ('학생들의 실력 차이는 크지 않지만 성적이 너무 저조하다. 주의 요망!')\n",
    "\n",
    "elif avrg > 50 and std_dev < 20:\n",
    "    print ('성적도 평균 이상이고 학생들의 실력 차이도 크지 않다.')"
   ]
  },
  {
   "cell_type": "code",
   "execution_count": 53,
   "metadata": {},
   "outputs": [],
   "source": [
    "def average(scores):\n",
    "    s = 0\n",
    "    for score in scores:\n",
    "        s += score\n",
    "    return round (s/len(scores), 1)\n",
    "\n",
    "def variance(scores, avrg):\n",
    "    s = 0\n",
    "    for score in scores:\n",
    "        s += (score - avrg) ** 2\n",
    "    return round(s/len(scores), 1)\n",
    "\n",
    "def std_dev(variance):\n",
    "    return round(math.sqrt(variance), 1)"
   ]
  },
  {
   "cell_type": "code",
   "execution_count": 55,
   "metadata": {},
   "outputs": [],
   "source": [
    "def evaluateClass(avrg, total_avrg, std_dev, sd):\n",
    "    '''\n",
    "    \n",
    "    evaluateClass(avrg, total_avrg, std_dev, std) -> None\n",
    "    avrg: 반 성적 평균\n",
    "    total-avrg: 학년 전체 성적 평균\n",
    "    std_dev: 반의 표준편차\n",
    "    sd: 원하는 표준편차 기준\n",
    "    '''\n",
    "    if avrg < 50 and std_dev > 20:\n",
    "        print ('성적이 너무 저조하고 학생들의 실력 차이가 너무 크다.')\n",
    "    \n",
    "    elif avrg > 50 and std_dev > 20:\n",
    "        print ('성적은 평균 이상이지만 학생들이 실력 차이가 크다. 주의 요망!')\n",
    "\n",
    "    elif avrg < 50 and std_dev < 20:\n",
    "        print ('학생들의 실력 차이는 크지 않지만 성적이 너무 저조하다. 주의 요망!')\n",
    "\n",
    "    elif avrg > 50 and std_dev < 20:\n",
    "        print ('성적도 평균 이상이고 학생들의 실력 차이도 크지 않다.')"
   ]
  },
  {
   "cell_type": "markdown",
   "metadata": {},
   "source": [
    "## 3.4 메인 프로그램 만들기"
   ]
  },
  {
   "cell_type": "code",
   "execution_count": 57,
   "metadata": {},
   "outputs": [
    {
     "name": "stdout",
     "output_type": "stream",
     "text": [
      "평균: 51.5, 분산: 1240.2, 표준편차: <function std_dev at 0x10e435400>\n",
      "성적은 평균 이상이지만 학생들이 실력 차이가 크다. 주의 요망!\n"
     ]
    }
   ],
   "source": [
    "from functions_01 import *\n",
    "\n",
    "# 학년 전체 학생의 평균: 50\n",
    "\n",
    "if __name__ == \"__main__\":\n",
    "    raw_data = get_data_from_excel('class_2_3.xlsx') # 1\n",
    "    scores = list(raw_data.values())\n",
    "    \n",
    "    avrg = average(scores) #2\n",
    "    variance = variance(scores, avrg) #3\n",
    "    standard_deviation = std_dev(variance)#4\n",
    "    \n",
    "    print (\"평균: {0}, 분산: {1}, 표준편차: {2}\".format(avrg, variance, std_dev))\n",
    "    \n",
    "    evaluateClass(avrg, 50, standard_deviation, 20) #5"
   ]
  },
  {
   "cell_type": "markdown",
   "metadata": {},
   "source": [
    "# 4. 객체 지향 프로그래밍"
   ]
  },
  {
   "cell_type": "markdown",
   "metadata": {},
   "source": [
    "- 객체 지향은 '현실 세계에 존재하는 객체(object)' 를 어떻게 모델링 할 것인가? 에 대한 질문에서 시작한다.\n",
    "    - 사람 혹은 동물을 어떻게 표현할 것인가?"
   ]
  },
  {
   "cell_type": "markdown",
   "metadata": {},
   "source": [
    "## 4.1 캡슐화"
   ]
  },
  {
   "cell_type": "markdown",
   "metadata": {},
   "source": [
    "- 주변을 둘러보면 모든 사물이 저마다 특성이 있다는 것을 알 수 있다.\n",
    "- 그 특성을 기준으로 객체들을 분류하거나 계층을 만들 수 있다.\n",
    "- 세상에 나와 같은 사람은 없지만 우리는 모두 '사람' 이라는 계층(클래스)에 속한다.\n",
    "- 모든 사람이 같은 특성을 갖고 있지만, 그 특성의 값은 다르다. 특성 값 하나하나가 모여 '나'라는 객체를 완성한다.\n",
    "- 사람은 '잠자기', '숨쉬기', '먹기' 같은 행동을 한다. 이처럼 객체는 고유의 특성 값과 행동 혹은 기능으로 표현할 수 있다.\n",
    "- **객체가 지니는 특성 값은 변수로 나타낼 수 있고 행동 혹은 기능은 함수로 표현할 수 있다.**\n",
    "- 현실 세계의 객체를 나타내려면 변수와 함수만 있으면 된다. 현실 세계를 모델링하거나 프로그램을 구현하는데 이처럼 변수와 함수를 가진 객체를 이용하는 패러다임은 '객체 지향 프로그래밍' 이라 하고, 변수(데이터)와 함수를 하나의 단위(대부분 언어에서 클래스)로 묶는 것을 캡슐화 라고 한다.\n"
   ]
  },
  {
   "cell_type": "markdown",
   "metadata": {},
   "source": [
    "## 클래스를 사용하지 않고 캡슐화 구현"
   ]
  },
  {
   "cell_type": "code",
   "execution_count": 58,
   "metadata": {},
   "outputs": [],
   "source": [
    "def person_init(name, money):\n",
    "    obj = {'name': name, 'money':money} #1\n",
    "    obj['give_money'] = Person[1] #2\n",
    "    obj['get_money'] = Person[2]\n",
    "    obj['show'] = Person[3]\n",
    "    return obj"
   ]
  },
  {
   "cell_type": "markdown",
   "metadata": {},
   "source": [
    "이 객체가 가지는 세 개의 함수를 살펴보자"
   ]
  },
  {
   "cell_type": "code",
   "execution_count": 60,
   "metadata": {},
   "outputs": [],
   "source": [
    "def give_money(self, other, money): #3\n",
    "    self['money'] -=money\n",
    "    other['get_money'](other, money) #4\n",
    "    \n",
    "def get_money(self, money):\n",
    "    self['money'] += money\n",
    "    \n",
    "def show(self):\n",
    "    print ('{} : {}'.format(self['name'], self['money']))"
   ]
  },
  {
   "cell_type": "markdown",
   "metadata": {},
   "source": [
    "- 위 세 함수는 person_init() 함수에서 객체 obj에 삽입하는 함수이다.\n",
    "    - 세 함수 중 가장 중요한 함수는 give_money() 이다.\n",
    "        - 이 함수는 한 사람 객체가 다른 사람 객체에게 돈을 주는 함수이다.\n",
    "        - 전달받는 인자 중 other는 돈을 받는 사람 객체를 의미한다.\n",
    "        - 돈을 주는 사람은 돈이 줄고 받은 사람은 돈이 늘 것이다.\n",
    "        - 즉, 두 객체 간의 상호작용이 일어나 각자가 가지고 있는 데이터가 변경되는 것이다.\n",
    "    - other 객체의 돈, 즉 변수를 변경할 때 돈을 받는 객체가 가지고 있는 특정 함수(get_money)를 호출하여 변경한다.\n",
    "        - 이처럼 서로 다른 객체가 함수 호출을 통해 상호작용하여 객체의 상태(데이터)가 변하는 것을 **메시지 패싱** 이라 한다.\n",
    "            - 서로 다른 객체가 상호작용할 때 함수를 호출했다.\n",
    "            - 상대의 변수(데이터)를 바꾸려면 상대가 가진 특정 함수를 호출해야 한다."
   ]
  },
  {
   "cell_type": "code",
   "execution_count": 62,
   "metadata": {},
   "outputs": [],
   "source": [
    "Person = person_init, give_money, get_money, show"
   ]
  },
  {
   "cell_type": "markdown",
   "metadata": {},
   "source": [
    "Person은 tuple로 함수들을 묶었을 뿐이지만 정확하게 클래스처럼 동작한다."
   ]
  },
  {
   "cell_type": "code",
   "execution_count": 68,
   "metadata": {},
   "outputs": [
    {
     "name": "stdout",
     "output_type": "stream",
     "text": [
      "greg : 5000\n",
      "john : 2000\n",
      "\n",
      "greg : 3000\n",
      "john : 4000\n"
     ]
    }
   ],
   "source": [
    "if __name__ == '__main__':\n",
    "    # 객체 생성\n",
    "    g = Person[0]('greg', 5000) #5\n",
    "    j = Person[0]('john', 2000)\n",
    "    \n",
    "    g['show'](g) \n",
    "    j['show'](j)\n",
    "    print ('')\n",
    "    \n",
    "    # 메시지 패싱\n",
    "    g['give_money'](g, j, 2000) #6\n",
    "    \n",
    "    g['show'](g)\n",
    "    g['show'](j)"
   ]
  },
  {
   "cell_type": "markdown",
   "metadata": {},
   "source": [
    "- #5에서 5천원을 가진 greg 객체와 2천원을 가진 john 객체를 만든다.\n",
    "- #6에서 give_money() 함수를 통해 greg이 자신의 2천원을 john에게 준다.\n",
    "- #6에서 give_money()함수를 호출할 때, 함수에 전달된 첫 번째 인자가 자기 자신이라는 점에 주의하자."
   ]
  },
  {
   "cell_type": "markdown",
   "metadata": {},
   "source": [
    "## 4.2 클래스를 사용해 객체 만들기"
   ]
  },
  {
   "cell_type": "markdown",
   "metadata": {},
   "source": [
    "- 컴퓨터에게 객체란 그저 메모리의 한 단위이다.\n",
    "- 객체라는 메모리 공간을 할당한 다음 객체 안에 묶인 변수를 초기화하고 함수를 호출하는데 필요한 것이 클래스이다.\n",
    "- 클래스는 객체를 생성해 내는 템플릿이고, 객체는 클래스를 이용해 만들어진 변수와 함수를 가진 메모리 공간이다.\n",
    "- 객체는 객체 자체에 초점을 맞춘 용어고, 인스턴스는 이 객체가 어떤 클래스에서 만들어졌는지에 초점을 맞춘 용어이다."
   ]
  },
  {
   "cell_type": "code",
   "execution_count": 94,
   "metadata": {},
   "outputs": [],
   "source": [
    "class Person: #1\n",
    "    def __init__(self, name, money): #2\n",
    "        self.name = name #3\n",
    "        self.money = money\n",
    "        \n",
    "    def give_money(self, other, money): #4\n",
    "        self.money -=money\n",
    "        other.get_money(money)\n",
    "        \n",
    "    def get_money(self, money):\n",
    "        self.money += money\n",
    "        \n",
    "    def show(self):\n",
    "        print (f'{self.name}:{self.money}')"
   ]
  },
  {
   "cell_type": "markdown",
   "metadata": {},
   "source": [
    "- Person 이라는 클래스를 선언한다(#1)\n",
    "- 클래스 이름은 첫 글자를 대문자로 하는 것이 관용이다.\n",
    "- OOP에서는 클래스로 묶이는 변수를 프로퍼티(property) 또는 멤버 변수 혹은 멤버(member)라고 부른다.\n",
    "- 객체가 가지는 멤버를 인스턴스 멤버(instance member)라고 한다\n",
    "- \\__init__() 함수는 생성자(constructor)라고 부르는 특별한 함수이다. (#2)\n",
    "    - 앞뒤로 언더바가 두개 있는 함수는 파이선이 예약해 두었다는 의미이다.\n",
    "    - 생성자의 역할은 인스턴스 맴버를 초기화 하는 것이다.\n",
    "- self는 자기 자신을 의미한다. 생성 중인 객체에 name과 money라는 멤버를 만들고 전달받은 인자들로 할당한다.\n",
    "- OOP에서는 클래스에 묶이느 함수를 행동(behavior), 멤버 함수, 메서드(method)라 부른다.\n",
    "    - 멤버와 메서드를 합쳐 속성(attribute)라고 부른다.\n",
    "- #4부터 나오는 give_money(), get_money(), show() 함수는 모두 객체가 갖게 될 메서드이다."
   ]
  },
  {
   "cell_type": "code",
   "execution_count": 95,
   "metadata": {},
   "outputs": [
    {
     "name": "stdout",
     "output_type": "stream",
     "text": [
      "greg:5000\n",
      "john:2000\n",
      "\n",
      "greg:3000\n",
      "john:4000\n"
     ]
    }
   ],
   "source": [
    "if __name__ == \"__main__\":\n",
    "    g = Person('greg', 5000)\n",
    "    j = Person('john', 2000)\n",
    "    \n",
    "    g.show()\n",
    "    j.show()\n",
    "    \n",
    "    g.give_money(j, 2000)\n",
    "    print ('')\n",
    "    \n",
    "    g.show()\n",
    "    j.show()"
   ]
  },
  {
   "cell_type": "markdown",
   "metadata": {},
   "source": [
    "## 4.3 파이썬의 클래스"
   ]
  },
  {
   "cell_type": "code",
   "execution_count": 96,
   "metadata": {},
   "outputs": [
    {
     "data": {
      "text/plain": [
       "function"
      ]
     },
     "execution_count": 96,
     "metadata": {},
     "output_type": "execute_result"
    }
   ],
   "source": [
    "type (Person.__init__)"
   ]
  },
  {
   "cell_type": "code",
   "execution_count": 97,
   "metadata": {},
   "outputs": [
    {
     "data": {
      "text/plain": [
       "function"
      ]
     },
     "execution_count": 97,
     "metadata": {},
     "output_type": "execute_result"
    }
   ],
   "source": [
    "type (Person.give_money)"
   ]
  },
  {
   "cell_type": "code",
   "execution_count": 98,
   "metadata": {},
   "outputs": [
    {
     "data": {
      "text/plain": [
       "function"
      ]
     },
     "execution_count": 98,
     "metadata": {},
     "output_type": "execute_result"
    }
   ],
   "source": [
    "type(Person.get_money)"
   ]
  },
  {
   "cell_type": "code",
   "execution_count": 99,
   "metadata": {},
   "outputs": [
    {
     "data": {
      "text/plain": [
       "function"
      ]
     },
     "execution_count": 99,
     "metadata": {},
     "output_type": "execute_result"
    }
   ],
   "source": [
    "type(Person.show)"
   ]
  },
  {
   "cell_type": "markdown",
   "metadata": {},
   "source": [
    "- Person 클래스에 있는 것은 모두 함수이다. 이는 이전 절차에서 Person을 만들 때 함수들을 튜플로 묶은 것과 매우 유사하다."
   ]
  },
  {
   "cell_type": "markdown",
   "metadata": {},
   "source": [
    "객체가 가진 메서드를 살펴보자"
   ]
  },
  {
   "cell_type": "code",
   "execution_count": 100,
   "metadata": {},
   "outputs": [
    {
     "data": {
      "text/plain": [
       "method"
      ]
     },
     "execution_count": 100,
     "metadata": {},
     "output_type": "execute_result"
    }
   ],
   "source": [
    "type (g.give_money)"
   ]
  },
  {
   "cell_type": "code",
   "execution_count": 101,
   "metadata": {},
   "outputs": [
    {
     "data": {
      "text/plain": [
       "method"
      ]
     },
     "execution_count": 101,
     "metadata": {},
     "output_type": "execute_result"
    }
   ],
   "source": [
    "type (g.get_money)"
   ]
  },
  {
   "cell_type": "code",
   "execution_count": 102,
   "metadata": {},
   "outputs": [
    {
     "data": {
      "text/plain": [
       "method"
      ]
     },
     "execution_count": 102,
     "metadata": {},
     "output_type": "execute_result"
    }
   ],
   "source": [
    "type(g.show)"
   ]
  },
  {
   "cell_type": "markdown",
   "metadata": {},
   "source": [
    "객체 g의 메서드는 함수가 아니라 메서드이다."
   ]
  },
  {
   "cell_type": "code",
   "execution_count": 103,
   "metadata": {},
   "outputs": [
    {
     "data": {
      "text/plain": [
       "['__call__',\n",
       " '__class__',\n",
       " '__delattr__',\n",
       " '__dir__',\n",
       " '__doc__',\n",
       " '__eq__',\n",
       " '__format__',\n",
       " '__func__',\n",
       " '__ge__',\n",
       " '__get__',\n",
       " '__getattribute__',\n",
       " '__gt__',\n",
       " '__hash__',\n",
       " '__init__',\n",
       " '__init_subclass__',\n",
       " '__le__',\n",
       " '__lt__',\n",
       " '__ne__',\n",
       " '__new__',\n",
       " '__reduce__',\n",
       " '__reduce_ex__',\n",
       " '__repr__',\n",
       " '__self__',\n",
       " '__setattr__',\n",
       " '__sizeof__',\n",
       " '__str__',\n",
       " '__subclasshook__']"
      ]
     },
     "execution_count": 103,
     "metadata": {},
     "output_type": "execute_result"
    }
   ],
   "source": [
    "dir (g.give_money) # 1"
   ]
  },
  {
   "cell_type": "code",
   "execution_count": 104,
   "metadata": {},
   "outputs": [
    {
     "data": {
      "text/plain": [
       "<function __main__.Person.give_money(self, other, money)>"
      ]
     },
     "execution_count": 104,
     "metadata": {},
     "output_type": "execute_result"
    }
   ],
   "source": [
    "g.give_money.__func__ # 2"
   ]
  },
  {
   "cell_type": "code",
   "execution_count": 105,
   "metadata": {},
   "outputs": [
    {
     "data": {
      "text/plain": [
       "<__main__.Person at 0x10e32dcc0>"
      ]
     },
     "execution_count": 105,
     "metadata": {},
     "output_type": "execute_result"
    }
   ],
   "source": [
    "g.give_money.__self__ # 3"
   ]
  },
  {
   "cell_type": "code",
   "execution_count": 106,
   "metadata": {},
   "outputs": [
    {
     "data": {
      "text/plain": [
       "True"
      ]
     },
     "execution_count": 106,
     "metadata": {},
     "output_type": "execute_result"
    }
   ],
   "source": [
    "g.give_money.__func__ is Person.give_money # 4"
   ]
  },
  {
   "cell_type": "code",
   "execution_count": 107,
   "metadata": {},
   "outputs": [
    {
     "data": {
      "text/plain": [
       "True"
      ]
     },
     "execution_count": 107,
     "metadata": {},
     "output_type": "execute_result"
    }
   ],
   "source": [
    "g.give_money.__self__ is g"
   ]
  },
  {
   "cell_type": "markdown",
   "metadata": {},
   "source": [
    "- #1 객체 g가 가진 give_money() 메서드의 속성(attribute)를 확인한다.\n",
    "    - \\__func__와 \\__self__가 보인다\n",
    "- #2 \\__func__를 확인해 보면 Person 클래스의 give_money() 함수 라고 나온다\n",
    "- #3 \\__self__를 확인해 보면(#3) Person 객체라고 나온다.\n",
    "- #4 \\__func__가 Person 클래스의 give_money() 함수라는 것을 확인할 수 있다\n",
    "- #5 \\__self__가 이 메서드를 가진 객체 자신을 참조하고 있음을 확인할 수 있다"
   ]
  },
  {
   "cell_type": "markdown",
   "metadata": {},
   "source": [
    "## 클래스 메서드"
   ]
  },
  {
   "cell_type": "markdown",
   "metadata": {},
   "source": [
    "- 객체가 멤버와 메서드를 가질 수 있는 것처럼 클래스도 멤버와 메서드를 가질 수 있다.\n",
    "- 클래스가 가지는 멤버를 클래스 맴버(class member)라 하고 메서드를 클래스 메서드라 한다."
   ]
  },
  {
   "cell_type": "code",
   "execution_count": 109,
   "metadata": {},
   "outputs": [],
   "source": [
    "class A:\n",
    "    \n",
    "    c_mem = 10 # 1\n",
    "    \n",
    "    @classmethod\n",
    "    def cls_f(cls): # 2\n",
    "        print (cls.c_mem)\n",
    "        \n",
    "    def __init__(self, num):\n",
    "        self.i_mem = num # 3\n",
    "        \n",
    "    def ins_f(self):\n",
    "        print (self.i_mem)"
   ]
  },
  {
   "cell_type": "markdown",
   "metadata": {},
   "source": [
    "- c_mem과 같은 멤버를 클래스 멤버라고 한다.\n",
    "    - #3 인스턴스 멤버 선언과 비교해 보면 차이를 알 수 있다.\n",
    "- 클래스 멤버는 클레스가 가지는 멤버이다.\n",
    "- #2 cls_f() 메서드 위에 데코레이터 @classmethod가 있다\n",
    "    - 이를 통해 이 메서드는 클래스 메서드가 된다\n",
    "    - 클래스 메서드는 클래스가 가진 메서드이다"
   ]
  },
  {
   "cell_type": "code",
   "execution_count": 110,
   "metadata": {},
   "outputs": [
    {
     "name": "stdout",
     "output_type": "stream",
     "text": [
      "10\n",
      "10\n"
     ]
    }
   ],
   "source": [
    "if __name__ == \"__main__\":\n",
    "    print (A.c_mem)\n",
    "    A.cls_f()"
   ]
  },
  {
   "cell_type": "markdown",
   "metadata": {},
   "source": [
    "- 아직 객체가 없는 상태에서 클래스 이름을 토해 클래스 멤버 c\\_mem에 접근하고(#4) 클래스 메서드 cls_f()를 호출한다.(#5)\n",
    "\n",
    "- 클래스 멤버와 클래스 메서드는 클래스가 가진 멤버와 메서드이므로 개게가 없어도 클래스를 통해 접근하거나 호출할 수 있다.\n",
    "\n",
    "- **객체 지향 패러다임이 꺼리는 전역 변수와 전역 함수를 클래스 멤버와 클래스 메서드를 사용해 대체할 수 있다.**\n",
    "\n",
    "- 클래스 멤버와 클래스 메서드의 또 다른 특징은 객체에서도 접근하거나 호출할 수 있다는 점이다."
   ]
  },
  {
   "cell_type": "code",
   "execution_count": 111,
   "metadata": {},
   "outputs": [
    {
     "name": "stdout",
     "output_type": "stream",
     "text": [
      "10\n",
      "10\n",
      "10\n"
     ]
    }
   ],
   "source": [
    "if __name__==\"__main__\":\n",
    "    print (A.c_mem)\n",
    "    A.cls_f()\n",
    "    \n",
    "    a = A(20)\n",
    "    print (a.c_mem)\n",
    "    a.cls_f"
   ]
  },
  {
   "cell_type": "markdown",
   "metadata": {},
   "source": [
    "## 4.4 객체 지향으로 은행 입출금 프로그램 만들기"
   ]
  },
  {
   "cell_type": "markdown",
   "metadata": {},
   "source": [
    "- 어떤 은행에 예금 계좌 상품이 있다고 가정하자. 계좌 클래스를 관리하는 은행에서는 계좌가 총 몇개 개설되었는지 알고 싶다.\n",
    "\n",
    "- 계좌 이용 고객은 개설된 계좌 수를 인스턴스 멤버로 가질 필요는 없다. 고객의 이름이나 잔액처럼 객체마다 다른 데이터만 가지면 된다."
   ]
  },
  {
   "cell_type": "code",
   "execution_count": 115,
   "metadata": {},
   "outputs": [],
   "source": [
    "class Account:\n",
    "    num_acnt = 0\n",
    "    \n",
    "    @classmethod\n",
    "    def get_num_acnt(cls):\n",
    "        '''\n",
    "        cls.get_num_acnt() -> intger\n",
    "        '''\n",
    "        return cls.num_acnt\n",
    "    \n",
    "    def __init__(self, name, money):\n",
    "        self.user = name\n",
    "        self.balance = money\n",
    "        Account.num_acnt += 1\n",
    "        \n",
    "    def deposit(self, money):\n",
    "        if money < 0:\n",
    "            return\n",
    "        self.balance += money\n",
    "        \n",
    "    def withdraw(self, money):\n",
    "        if money >0 and money <= self.balance:\n",
    "            self.balance -=money\n",
    "            return money\n",
    "        else:\n",
    "            return None\n",
    "            \n",
    "    def transfer(self, other, money):\n",
    "        '''\n",
    "        obj. transfer(other, money) -> bool\n",
    "        other: The object to interact with\n",
    "        money: money the user wants to send\n",
    "        \n",
    "        returns True if the balance is enough to transfer\n",
    "        \n",
    "        returns False if not\n",
    "        '''\n",
    "        mon = self.withdraw(money)\n",
    "        if mon:\n",
    "            other.deposit(money)\n",
    "            return True\n",
    "        else:\n",
    "            return False\n",
    "        \n",
    "    def __str__(self):\n",
    "        return f'user : {self.user}, balance : {self.balance}'"
   ]
  },
  {
   "cell_type": "code",
   "execution_count": 129,
   "metadata": {},
   "outputs": [
    {
     "name": "stdout",
     "output_type": "stream",
     "text": [
      "object creaed\n",
      "user : greg, balance : 5000\n",
      "user : john, balance : 1000\n",
      "\n",
      "deposit\n",
      "user : greg, balance : 5500\n",
      "\n",
      "withdraw\n",
      "withdrawn money: 1500\n",
      "\n",
      "class member\n",
      "28\n",
      "28\n",
      "\n",
      "class method\n",
      "The number of accounts: 28\n",
      "\n",
      "message passing\n",
      "user : greg, balance : 4000\n",
      "user : john, balance : 1000\n",
      "transfer succeeded\n",
      "user : greg, balance : 2000\n",
      "user : john, balance : 3000\n"
     ]
    }
   ],
   "source": [
    "if __name__ == \"__main__\":\n",
    "    # 객체 생성\n",
    "    my_acnt = Account('greg', 5000)\n",
    "    your_acnt = Account('john', 1000)\n",
    "    \n",
    "    # 생성 확인\n",
    "    print ('object creaed')\n",
    "    print (my_acnt)\n",
    "    print (your_acnt)\n",
    "    print ()\n",
    "    \n",
    "    # 인스턴스 메서드를 호출하는 방법\n",
    "    # 1. by object\n",
    "    my_acnt.deposit(500)\n",
    "    # 2. by class\n",
    "    # Account.deposit(my_acnt, 500)\n",
    "    \n",
    "    # deposit 확인\n",
    "    print ('deposit')\n",
    "    print (my_acnt)\n",
    "    print ()\n",
    "    \n",
    "    # withdraw 함수 사용법\n",
    "    print ('withdraw')\n",
    "    money = my_acnt.withdraw(1500)\n",
    "    if money:\n",
    "        print (f'withdrawn money: {money}')\n",
    "    else:\n",
    "        print ('Not enough to withdraw')\n",
    "    print ()\n",
    "    \n",
    "    # 클래스 멤버에 접근하는 방법\n",
    "    print ('class member')\n",
    "    # 1. by class\n",
    "    print (Account.num_acnt)\n",
    "    # 2. by object\n",
    "    print (my_acnt.num_acnt)\n",
    "    print ()\n",
    "    \n",
    "    # 클래스 메서드를 호출하는 방법\n",
    "    print ('class method')\n",
    "    # 1. by class\n",
    "    n_acnt = Account.get_num_acnt()\n",
    "    # 2. by object\n",
    "    #n_acnt = my_acnt.get_num_acnt()\n",
    "    \n",
    "    print (f'The number of accounts: {n_acnt}')\n",
    "    print ()\n",
    "    \n",
    "    # 메시지 패싱\n",
    "    print ('message passing')\n",
    "    print (my_acnt)\n",
    "    print (your_acnt)\n",
    "    res = my_acnt.transfer(your_acnt, 2000)\n",
    "    if res:\n",
    "        print ('transfer succeeded')\n",
    "    else:\n",
    "        print ('transfer failed')\n",
    "    print (my_acnt)\n",
    "    print (your_acnt)"
   ]
  },
  {
   "cell_type": "markdown",
   "metadata": {},
   "source": [
    "- 클래스로 호출하는 것은 메서드가 아니라 ㅎ마수이다. 함수이므로 첫 번째 인자 self에 객체를 넘겨 주어야 한다."
   ]
  },
  {
   "cell_type": "markdown",
   "metadata": {},
   "source": [
    "## 클래스 메서드와 정적 메서드"
   ]
  },
  {
   "cell_type": "code",
   "execution_count": 135,
   "metadata": {},
   "outputs": [
    {
     "name": "stdout",
     "output_type": "stream",
     "text": [
      "static method\n",
      "A\n"
     ]
    }
   ],
   "source": [
    "class A:\n",
    "    @staticmethod\n",
    "    def f(): # 1\n",
    "        print ('static method')\n",
    "        \n",
    "    @classmethod\n",
    "    def g(cls):\n",
    "        print (cls.__name__)\n",
    "\n",
    "if __name__ == \"__main__\":\n",
    "    a = A()\n",
    "    a.f()\n",
    "    a.g()"
   ]
  },
  {
   "cell_type": "markdown",
   "metadata": {},
   "source": [
    "- f() 함수는 정적 메서드이다.(#1) 정적 메서드는 인자로 클래스나 객체를 받지 않는다.\n",
    "    - 함수의 정의만 클래스 A의 네임스페이스에 있을 뿐 일반 함수와 같으며 전역 함수를 대체하기에 가장 알맞다.\n",
    "- g()는 클래스 메서드이다.(#2) 첫 번째 인자로 클래스 A를 받는다."
   ]
  },
  {
   "cell_type": "code",
   "execution_count": 136,
   "metadata": {},
   "outputs": [
    {
     "data": {
      "text/plain": [
       "function"
      ]
     },
     "execution_count": 136,
     "metadata": {},
     "output_type": "execute_result"
    }
   ],
   "source": [
    "type(A.f)"
   ]
  },
  {
   "cell_type": "code",
   "execution_count": 137,
   "metadata": {},
   "outputs": [
    {
     "data": {
      "text/plain": [
       "method"
      ]
     },
     "execution_count": 137,
     "metadata": {},
     "output_type": "execute_result"
    }
   ],
   "source": [
    "type(A.g)"
   ]
  },
  {
   "cell_type": "markdown",
   "metadata": {},
   "source": [
    "클래스 메서드는 대체 생성자로도 사용된다."
   ]
  },
  {
   "cell_type": "code",
   "execution_count": 138,
   "metadata": {},
   "outputs": [
    {
     "name": "stdout",
     "output_type": "stream",
     "text": [
      "greg\n",
      "30\n"
     ]
    }
   ],
   "source": [
    "class Person:\n",
    "    def __init__(self, name, age): # 1\n",
    "        self.name = name\n",
    "        self.age = age\n",
    "    \n",
    "    @classmethod\n",
    "    def init_from_string(cls, string): # 2\n",
    "        '''\n",
    "        string format: '<name>_<age>'\n",
    "        '''\n",
    "        name, age = string.split('_')\n",
    "        return cls(name, int(age)) # 3\n",
    "    \n",
    "if __name__ == '__main__':\n",
    "    p = Person.init_from_string('greg_30') #4\n",
    "    print (p.name)\n",
    "    print (p.age)"
   ]
  },
  {
   "cell_type": "markdown",
   "metadata": {},
   "source": [
    "- def\\__init__(self, name, age)는 일반적인 생성자이다. (#1)\n",
    "- 객체의 멤버 데이터가 문자열로 들어오고 그 형태가 <name>_<age>라면 클래스 메서드로 대체 생성자를 만들어 일반 생성자 대신 객체로 받을 수 있다.\n",
    "\n",
    "- int_from_string() 메서드는 <name>_<age> 형태의 문자열을 인자로 받아(#2) 이를 분석하여 일반적인 생성자를 다시 호출한다. (#3)"
   ]
  },
  {
   "cell_type": "markdown",
   "metadata": {},
   "source": [
    "## 4.5 정보 은닉"
   ]
  },
  {
   "cell_type": "code",
   "execution_count": 140,
   "metadata": {},
   "outputs": [
    {
     "name": "stdout",
     "output_type": "stream",
     "text": [
      "-3000\n"
     ]
    }
   ],
   "source": [
    "class Account:\n",
    "    def __init__(self, name, money):\n",
    "        self.user = name\n",
    "        self.balance = money\n",
    "        \n",
    "    def get_balance(self):\n",
    "        return self.balance\n",
    "    \n",
    "    def set_balance(self, money):\n",
    "        if money < 0:\n",
    "            return\n",
    "        self.banace = money\n",
    "        \n",
    "if __name__ ==\"__main__\":\n",
    "    my_acnt = Account('greg', 5000)\n",
    "    my_acnt.balance = -3000\n",
    "    \n",
    "    print (my_acnt.get_balance())"
   ]
  },
  {
   "cell_type": "markdown",
   "metadata": {},
   "source": [
    "정보 은닉이 안 되어 있다."
   ]
  },
  {
   "cell_type": "markdown",
   "metadata": {},
   "source": [
    "파이썬은 기본적으로 정보 은닉을 지원하지 않는다. 다만 두 가지 방법이 존재한다.\n",
    "- 숨기려는 멤버 앞에 언더바(\\_)를 두개 붙이기\n",
    "- 프로퍼티 기법"
   ]
  },
  {
   "cell_type": "markdown",
   "metadata": {},
   "source": [
    "## 언더바 붙이기"
   ]
  },
  {
   "cell_type": "code",
   "execution_count": 144,
   "metadata": {},
   "outputs": [
    {
     "name": "stdout",
     "output_type": "stream",
     "text": [
      "5000\n"
     ]
    }
   ],
   "source": [
    "class Account:\n",
    "    def __init__(self, name, money):\n",
    "        self.user = name\n",
    "        self.__balance = money\n",
    "        \n",
    "    def get_balance(self):\n",
    "        return self.__balance\n",
    "    \n",
    "    def set_balance(self, money):\n",
    "        if money < 0:\n",
    "            return\n",
    "        self.__banace = money\n",
    "        \n",
    "if __name__ ==\"__main__\":\n",
    "    my_acnt = Account('greg', 5000)\n",
    "    my_acnt.__balance = -3000\n",
    "    \n",
    "    print (my_acnt.get_balance())"
   ]
  },
  {
   "cell_type": "markdown",
   "metadata": {},
   "source": [
    "정보 은닉이 된 것일까?"
   ]
  },
  {
   "cell_type": "code",
   "execution_count": 142,
   "metadata": {},
   "outputs": [
    {
     "data": {
      "text/plain": [
       "{'user': 'greg', '_Account__balance': 5000, '__balance': -3000}"
      ]
     },
     "execution_count": 142,
     "metadata": {},
     "output_type": "execute_result"
    }
   ],
   "source": [
    "my_acnt.__dict__"
   ]
  },
  {
   "cell_type": "markdown",
   "metadata": {},
   "source": [
    "- 클래스 안에서 멤버 앞에 언더바(\\_)를 두개 붙이면 이 멤버는 객체가 만들어질 때 이름이 변한다.\n",
    "    - \\_'클래스 이름'이 멤버 앞에 붙게 된다\n",
    "        - 생성자에서 선언한 인스턴스 멤버 \\__balance는 \\_Account__balance로 바뀌게 된다\n",
    "- -3000을 값으로 갖는 \\__balance 멤버는 my\\_acnt 객체만의 멤버 \\__balance를 새롭게 만든 것이다. 파이썬에서 객체는 자신만의 멤버를 추가할 수 있다."
   ]
  },
  {
   "cell_type": "code",
   "execution_count": 145,
   "metadata": {},
   "outputs": [],
   "source": [
    "my_acnt.parrot = 3000"
   ]
  },
  {
   "cell_type": "code",
   "execution_count": 146,
   "metadata": {},
   "outputs": [
    {
     "data": {
      "text/plain": [
       "{'user': 'greg', '_Account__balance': 5000, '__balance': -3000, 'parrot': 3000}"
      ]
     },
     "execution_count": 146,
     "metadata": {},
     "output_type": "execute_result"
    }
   ],
   "source": [
    "my_acnt.__dict__"
   ]
  },
  {
   "cell_type": "markdown",
   "metadata": {},
   "source": [
    "## 프로퍼티 기법"
   ]
  },
  {
   "cell_type": "markdown",
   "metadata": {},
   "source": [
    "프로퍼티(property) 기법을 사용하면 멤버에 접근하는 것처럼 보이지만 사실은 메서드를 호출한다."
   ]
  },
  {
   "cell_type": "code",
   "execution_count": 174,
   "metadata": {},
   "outputs": [
    {
     "name": "stdout",
     "output_type": "stream",
     "text": [
      "5000\n"
     ]
    }
   ],
   "source": [
    "class Account:\n",
    "    def __init__(self, name, money):\n",
    "        self.user = name\n",
    "        # 인스턴스 멤버 선언이 아니라 #3의 setter 메서드를 호출\n",
    "        self.balance = money # 1\n",
    "        \n",
    "    @property\n",
    "    def balance(self): # 2\n",
    "        return self._balance\n",
    "    \n",
    "    @balance.setter\n",
    "    def balance(self, money): # 3\n",
    "        if money < 0:\n",
    "            return\n",
    "        \n",
    "        # 실제 인스턴스 멤버 선언이 일어나는 부분(#1 실행시(생성자 호출시))\n",
    "        self._balance = money\n",
    "        \n",
    "\n",
    "    \n",
    "if __name__ ==\"__main__\":\n",
    "    my_acnt = Account('greg', 5000)\n",
    "    my_acnt.balance = -3000 # 4\n",
    "    \n",
    "    print (my_acnt.balance) # 5"
   ]
  },
  {
   "cell_type": "markdown",
   "metadata": {},
   "source": [
    "- 데코레이터 @property를 붙이는 순간 balance() 메서드는 getter 함수가 되어 get_balance() 메서드와 같은 역할을 한다\n",
    "\n",
    "- @balance.setter가 붙은 balance()함수는 setter 함수가 되어 set_balance() 메서드와 같은 역할을 한다. 이 함수는 setter 함수가 되어 set_balance() 메서드와 같은 역할을 한다.\n",
    "    - 유저 프로그래머가 객체를 만들어 사용할때는 getter, setter 함수인 이름인 balance를 마치 멤버인 것처럼 사용한다는 것이다.\n",
    "    - 멤버에 직접 접근하는것 같지만 실제로는 getter, setter 함수를 호출해 실제 멤버인 \\_balance에 접근하는 것이다.\n",
    "- my_acnt.balance = -3000 (#4)를 보면 my\\_acnt 객체의 balance 객체에 접근해 값을 변경하는 것처럼 보인다.\n",
    "    - 하지만 my_acnt 객체에는 balance라는 멤버가 없고 balance라는 이름의 getter와 setter 메서드만 있을 뿐이다.\n",
    "    - #4는 setter 함수인 balance를 호출한다. setter 함수를 통해 변경을 시도하므로 \\_balance 멤버의 값은 음수로 변경되지 않는다.\n",
    "- print(my_acnt.balance) #5는 getter 함수인 balance() 메서드를 호출해 \\_balance 멤버에 접근한다."
   ]
  },
  {
   "cell_type": "markdown",
   "metadata": {},
   "source": [
    "하지만 이 방법도 유저 프로그래머가 멤버로 접근하는 것을 원천적으로 막을 수는 없다"
   ]
  },
  {
   "cell_type": "code",
   "execution_count": 175,
   "metadata": {},
   "outputs": [
    {
     "data": {
      "text/plain": [
       "{'user': 'greg', '_balance': 5000}"
      ]
     },
     "execution_count": 175,
     "metadata": {},
     "output_type": "execute_result"
    }
   ],
   "source": [
    "my_acnt.__dict__"
   ]
  },
  {
   "cell_type": "code",
   "execution_count": 176,
   "metadata": {},
   "outputs": [
    {
     "data": {
      "text/plain": [
       "-3000"
      ]
     },
     "execution_count": 176,
     "metadata": {},
     "output_type": "execute_result"
    }
   ],
   "source": [
    "my_acnt._balance = -3000\n",
    "my_acnt.balance"
   ]
  },
  {
   "cell_type": "markdown",
   "metadata": {},
   "source": [
    "\\__dict__로 멤버를 확인할 수 있고 \\_balance 멤버로 접근해 값을 음수로 변경하면 setter 함수를 통해 변경하는 것이 아니므로 \\_balance 값이 음수로 바뀐다. 이처럼 파이썬은 완벽한 정보 은닉은 제공하지 않는다."
   ]
  },
  {
   "cell_type": "markdown",
   "metadata": {},
   "source": [
    "# 5. 객체 지향으로 다시 만드는 학급 성적 평가 프로그램"
   ]
  },
  {
   "cell_type": "markdown",
   "metadata": {},
   "source": [
    "## 5.1 Stat 클래스 만들기"
   ]
  },
  {
   "cell_type": "code",
   "execution_count": 188,
   "metadata": {},
   "outputs": [],
   "source": [
    "import math\n",
    "\n",
    "class Stat:\n",
    "    \n",
    "    def average(self, scores):\n",
    "        s = 0\n",
    "        for score in scores:\n",
    "            s += score\n",
    "        return round(s / len(scores), 1)\n",
    "    \n",
    "    def variance(self, scores, avrg):\n",
    "        s = 0\n",
    "        for score in scores:\n",
    "            s += (score - avrg) ** 2\n",
    "        return round(s/len(scores), 1)\n",
    "    \n",
    "    def std_dev(self, variance):\n",
    "        return round(math.sqrt(variance), 1)"
   ]
  },
  {
   "cell_type": "markdown",
   "metadata": {},
   "source": [
    "## 5.2 DataHandler 클래스 만들기"
   ]
  },
  {
   "cell_type": "markdown",
   "metadata": {},
   "source": [
    "데이터를 연산하는 시점에 따라 몇 가지로 나누어 볼 수 있다."
   ]
  },
  {
   "cell_type": "markdown",
   "metadata": {},
   "source": [
    "1. 객체가 생성되는 순간 생성자 함수에서 모든 연산을 마치고 그 결과 값을 인스턴스 멤버에 저장해 두는 경우\n",
    "    - 필요한 것이 학급 평균뿐이라면 평균 하나를 얻으려고 객체를 생성하여 분산과 표준편차까지 모두 구하는 것은 비합리적이다.\n",
    "2. 데이터가 필요할 때마다 매번 연산하는 경우. \n",
    "    - 표준편차를 구하는 함수를 자주 호출하는 경우 함수를 호출할 때마다 평균을 다시 구하고 분산을 구한 다음 표준편차를 구해야 한다.\n",
    "3. 유저 프로그래머가 데이터를 요청할때, 한번도 연산된 적이 없는 경우 필요한 만큼만 연산하여 결과 값을 저장해 두는 경우\n",
    "    - 멤버로 cache(일종의 저장 장소)를 두어 연산 결과를 저장하게 하자"
   ]
  },
  {
   "cell_type": "code",
   "execution_count": null,
   "metadata": {},
   "outputs": [],
   "source": [
    "from statistics import *\n",
    "import openpyxl\n",
    "\n",
    "class DataHandler:\n",
    "    evaluator = Stat() # 1\n",
    "\n",
    "    @classmethod\n",
    "    def get_data_from_excel(cls, filename): # 2\n",
    "        dic = {}\n",
    "        wb = openpyxl.load_workbook(filename)\n",
    "        ws = wb.active\n",
    "        g = ws.rows\n",
    "        \n",
    "        for name, score in g:\n",
    "            dic[name.value] = score.value\n",
    "        \n",
    "        return dic\n",
    "    \n",
    "    def __init__(self, filename, year_class):\n",
    "        self.rawdata = DataHandler.get_data_from_excel(filename)\n",
    "        self.year_class = year_class\n",
    "        # 연산한 값을 저장해 두는 저장소\n",
    "        # 필요할 때 연산하되\n",
    "        # 이미 연산된 값이면 연산 없이 저장된 값을 반환\n",
    "        self.cache = {} # 3\n",
    "        "
   ]
  },
  {
   "cell_type": "markdown",
   "metadata": {},
   "source": [
    "- #1 Stat 객체의 평균, 분산, 표준 편차 연산 함수는 모든 객체가 공유해서 사용하면 된다.\n",
    "    - 따라서 인스턴스 멤버보다는 클래스 멤버가 어울린다\n",
    "    \n",
    "- 엑셀 파일에서 데이터를 읽어오는 함수를 클래스 메서드로 만든다 (#2)\n",
    "    - DataHandler 객체를 만들지 않더라도 데이터를 꺼내 볼 수 있다.\n",
    "\n",
    "- 객체에 연산 결과를 저장해 둘 캐시로 딕셔너리를 사용한다 #3\n",
    "- 필요한 시점에 필요한 연산만 하는 형태이다"
   ]
  },
  {
   "cell_type": "code",
   "execution_count": 195,
   "metadata": {},
   "outputs": [],
   "source": [
    "from statistics import *\n",
    "import openpyxl\n",
    "\n",
    "class DataHandler:\n",
    "    evaluator = Stat() # 1\n",
    "\n",
    "    @classmethod\n",
    "    def get_data_from_excel(cls, filename): # 2\n",
    "        dic = {}\n",
    "        wb = openpyxl.load_workbook(filename)\n",
    "        ws = wb.active\n",
    "        g = ws.rows\n",
    "        \n",
    "        for name, score in g:\n",
    "            dic[name.value] = score.value\n",
    "        \n",
    "        return dic\n",
    "    \n",
    "    def __init__(self, filename, year_class):\n",
    "        self.rawdata = DataHandler.get_data_from_excel(filename)\n",
    "        self.year_class = year_class\n",
    "        # 연산한 값을 저장해 두는 저장소\n",
    "        # 필요할 때 연산하되\n",
    "        # 이미 연산된 값이면 연산 없이 저장된 값을 반환\n",
    "        self.cache = {} # 3\n",
    "        \n",
    "    def get_scores(self):\n",
    "        if 'scores' not in self.cache:\n",
    "            self.cache['scores'] = list(self.rawdata.values())\n",
    "        \n",
    "        return self.cache.get('scores')\n",
    "    \n",
    "    def get_average(self): # 4\n",
    "        if 'average' not in self.cache: # 5\n",
    "            self.cache['average'] = self.evaluator.average(self.get_scores())\n",
    "        return self.cache.get('average') # 6\n",
    "    \n",
    "    def get_variance(self):\n",
    "        if \"variance\" not in self.cache:\n",
    "            self.cache[\"variance\"] = self.evaluator.variance(\n",
    "            self.get_scores(), self.get_average())\n",
    "            \n",
    "        return self.cache.get(\"variance\")\n",
    "    \n",
    "    def get_standard_deviation(self):\n",
    "        if \"standard_deviation\" not in self.cache:\n",
    "            self.cache[\"standard_deviation\"] = self.evaluator.std_dev(\n",
    "            self.get_variance())\n",
    "            \n",
    "        return self.cache.get(\"standard_deviation\")\n",
    "    \n",
    "    def evaluate_class(self, total_avrg, sd):\n",
    "        avrg = self.get_average()\n",
    "        std_dev = self.get_standard_deviation()\n",
    "        \n",
    "        if avrg < total_avrg and std_dev > sd:\n",
    "            print ('성적이 너무 저조하고 학생들의 실력 차이가 너무 크다.')\n",
    "    \n",
    "        elif avrg > total_avrg and std_dev > sd:\n",
    "            print ('성적은 평균 이상이지만 학생들이 실력 차이가 크다. 주의 요망!')\n",
    "    \n",
    "        elif avrg < total_avrg and std_dev < sd:\n",
    "            print ('학생들의 실력 차이는 크지 않지만 성적이 너무 저조하다. 주의 요망!')\n",
    "\n",
    "        elif avrg > total_avrg and std_dev < sd:\n",
    "            print ('성적도 평균 이상이고 학생들의 실력 차이도 크지 않다.')\n",
    "            \n",
    "    def get_evaluation(self, total_avrg, sd=20):\n",
    "        print ('*' * 50)\n",
    "        print (f\"{self.year_class} 반 성적 분석 결과\")\n",
    "        print (\"{0}반의 평균은 {1}점이고 분산은 {2}이며 따라서 표준편차는 {3}이다\".format(self.year_class,\n",
    "                                                                  self.get_average(),\n",
    "                                                                  self.get_variance(),\n",
    "                                                                  self.get_standard_deviation()))\n",
    "        print ('*' * 50)\n",
    "        print (f'{self.year_class} 반 종합 평가')\n",
    "        print ('*' * 50)\n",
    "        self.evaluate_class(total_avrg, sd)"
   ]
  },
  {
   "cell_type": "markdown",
   "metadata": {},
   "source": [
    "main.py"
   ]
  },
  {
   "cell_type": "code",
   "execution_count": 196,
   "metadata": {},
   "outputs": [],
   "source": [
    "dh =DataHandler('class_2_3.xlsx', '2-3')"
   ]
  },
  {
   "cell_type": "code",
   "execution_count": 197,
   "metadata": {},
   "outputs": [
    {
     "name": "stdout",
     "output_type": "stream",
     "text": [
      "**************************************************\n",
      "2-3 반 성적 분석 결과\n",
      "2-3반의 평균은 51.5점이고 분산은 1240.2이며 따라서 표준편차는 35.2이다\n",
      "**************************************************\n",
      "2-3 반 종합 평가\n",
      "**************************************************\n",
      "성적은 평균 이상이지만 학생들이 실력 차이가 크다. 주의 요망!\n"
     ]
    }
   ],
   "source": [
    "dh.get_evaluation(50)"
   ]
  },
  {
   "cell_type": "code",
   "execution_count": null,
   "metadata": {},
   "outputs": [],
   "source": []
  }
 ],
 "metadata": {
  "kernelspec": {
   "display_name": "Python 3",
   "language": "python",
   "name": "python3"
  },
  "language_info": {
   "codemirror_mode": {
    "name": "ipython",
    "version": 3
   },
   "file_extension": ".py",
   "mimetype": "text/x-python",
   "name": "python",
   "nbconvert_exporter": "python",
   "pygments_lexer": "ipython3",
   "version": "3.6.4"
  }
 },
 "nbformat": 4,
 "nbformat_minor": 2
}
